{
 "cells": [
  {
   "cell_type": "raw",
   "id": "e2b663cf",
   "metadata": {},
   "source": []
  },
  {
   "cell_type": "code",
   "execution_count": null,
   "id": "840cf1da",
   "metadata": {},
   "outputs": [
    {
     "name": "stdout",
     "output_type": "stream",
     "text": [
      "Rectangles: 3.0\n"
     ]
    }
   ],
   "source": [
    "import cv2, glob\n",
    "\n",
    "# Load image, grayscale, blur, Otsu's threshold\n",
    "image = cv2.imread('../input/train_data/1.png')\n",
    "gray = cv2.cvtColor(image, cv2.COLOR_BGR2GRAY)\n",
    "blur = cv2.GaussianBlur(gray, (3,3), 0)\n",
    "thresh = cv2.threshold(blur, 0, 255, cv2.THRESH_BINARY_INV + cv2.THRESH_OTSU)[1]\n",
    "\n",
    "# Remove small noise with contour area filtering\n",
    "cnts = cv2.findContours(thresh, cv2.RETR_TREE, cv2.CHAIN_APPROX_SIMPLE)\n",
    "cnts = cnts[0] if len(cnts) == 2 else cnts[1]\n",
    "for c in cnts:\n",
    "    area = cv2.contourArea(c)\n",
    "    if area < 150:\n",
    "        cv2.drawContours(thresh, [c], -1, 0, -1)\n",
    "\n",
    "# Find corners and draw onto image\n",
    "corners = cv2.goodFeaturesToTrack(thresh,150,0.5,5)\n",
    "for corner in corners:\n",
    "    x,y = corner.ravel()\n",
    "    cv2.circle(image,(int(x),int(y)),3,(36,255,12),-1)\n",
    "\n",
    "# The number of rectangles is corners / 4\n",
    "print('Rectangles: {}'.format(len(corners)/4))\n",
    "\n",
    "cv2.imshow('image', image)\n",
    "cv2.waitKey()"
   ]
  },
  {
   "cell_type": "code",
   "execution_count": null,
   "id": "d6315821",
   "metadata": {},
   "outputs": [],
   "source": []
  },
  {
   "cell_type": "code",
   "execution_count": null,
   "id": "109858a9",
   "metadata": {},
   "outputs": [],
   "source": []
  }
 ],
 "metadata": {
  "kernelspec": {
   "display_name": "Python 3 (ipykernel)",
   "language": "python",
   "name": "python3"
  },
  "language_info": {
   "codemirror_mode": {
    "name": "ipython",
    "version": 3
   },
   "file_extension": ".py",
   "mimetype": "text/x-python",
   "name": "python",
   "nbconvert_exporter": "python",
   "pygments_lexer": "ipython3",
   "version": "3.7.2"
  }
 },
 "nbformat": 4,
 "nbformat_minor": 5
}
