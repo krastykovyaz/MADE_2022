{
 "cells": [
  {
   "cell_type": "code",
   "execution_count": 46,
   "id": "f805ac34",
   "metadata": {},
   "outputs": [],
   "source": [
    "from itertools import permutations\n",
    "import cv2, glob\n",
    "import imutils, math\n",
    "from tqdm import tqdm\n",
    "import pandas as pd\n",
    "example = '../input/train_data/2.png'"
   ]
  },
  {
   "cell_type": "code",
   "execution_count": 36,
   "id": "2c0e1b67",
   "metadata": {},
   "outputs": [],
   "source": [
    "def get_colors():\n",
    "    set_col = set()\n",
    "    for l1, l2, l3 in permutations(range(256), 3):\n",
    "        set_col.add((l1, l2, l3))\n",
    "    return set_col"
   ]
  },
  {
   "cell_type": "code",
   "execution_count": 40,
   "id": "2084136d",
   "metadata": {},
   "outputs": [
    {
     "data": {
      "text/plain": [
       "['../input/test_data/1.png', '../input/test_data/2.png']"
      ]
     },
     "execution_count": 40,
     "metadata": {},
     "output_type": "execute_result"
    }
   ],
   "source": [
    "import re\n",
    "test_path = glob.glob('../input/test_data/*')\n",
    "test_path_sorted = [s[1] for s in sorted(\n",
    "    [(int(re.findall('\\d+',v)[0]), v\n",
    "     ) for v in test_path], key=lambda x: x[0])]\n",
    "test_path_sorted[:2]"
   ]
  },
  {
   "cell_type": "code",
   "execution_count": 41,
   "id": "4ed9c076",
   "metadata": {},
   "outputs": [],
   "source": [
    "def count_diag(length_list):\n",
    "    if len(length_list) == 1 and length_list[0] == 0:\n",
    "        return 0\n",
    "    dist_list = []\n",
    "    dist_set = set()\n",
    "    for l1, l2 in permutations(length_list, 2):\n",
    "        if (l1, l2) not in dist_set and (l2, l1) not in dist_set:\n",
    "            dist_list.append(l1 == l2)\n",
    "            dist_set.add((l1, l2))\n",
    "    return sum(dist_list) "
   ]
  },
  {
   "cell_type": "code",
   "execution_count": null,
   "id": "4ca2656c",
   "metadata": {},
   "outputs": [],
   "source": []
  },
  {
   "cell_type": "code",
   "execution_count": 38,
   "id": "d153a6f0",
   "metadata": {},
   "outputs": [
    {
     "ename": "NameError",
     "evalue": "name 'test_path_sorted' is not defined",
     "output_type": "error",
     "traceback": [
      "\u001b[0;31m---------------------------------------------------------------------------\u001b[0m",
      "\u001b[0;31mNameError\u001b[0m                                 Traceback (most recent call last)",
      "\u001b[0;32m/var/folders/zm/h5n8v4n10y73w2gc1rpdcm400000gq/T/ipykernel_29465/239837127.py\u001b[0m in \u001b[0;36m<module>\u001b[0;34m\u001b[0m\n\u001b[1;32m      5\u001b[0m \u001b[0mcount_squards\u001b[0m \u001b[0;34m=\u001b[0m \u001b[0;34m[\u001b[0m\u001b[0;34m]\u001b[0m\u001b[0;34m\u001b[0m\u001b[0;34m\u001b[0m\u001b[0m\n\u001b[1;32m      6\u001b[0m \u001b[0;31m# Load image, grayscale, blur, Otsu's threshold\u001b[0m\u001b[0;34m\u001b[0m\u001b[0;34m\u001b[0m\u001b[0;34m\u001b[0m\u001b[0m\n\u001b[0;32m----> 7\u001b[0;31m \u001b[0;32mfor\u001b[0m \u001b[0mfile\u001b[0m \u001b[0;32min\u001b[0m \u001b[0mtqdm\u001b[0m\u001b[0;34m(\u001b[0m\u001b[0mtest_path_sorted\u001b[0m\u001b[0;34m)\u001b[0m\u001b[0;34m:\u001b[0m\u001b[0;34m\u001b[0m\u001b[0;34m\u001b[0m\u001b[0m\n\u001b[0m\u001b[1;32m      8\u001b[0m     \u001b[0mimage\u001b[0m \u001b[0;34m=\u001b[0m \u001b[0mcv2\u001b[0m\u001b[0;34m.\u001b[0m\u001b[0mimread\u001b[0m\u001b[0;34m(\u001b[0m\u001b[0mfile\u001b[0m\u001b[0;34m)\u001b[0m\u001b[0;34m\u001b[0m\u001b[0;34m\u001b[0m\u001b[0m\n\u001b[1;32m      9\u001b[0m     \u001b[0mgray\u001b[0m \u001b[0;34m=\u001b[0m \u001b[0mcv2\u001b[0m\u001b[0;34m.\u001b[0m\u001b[0mcvtColor\u001b[0m\u001b[0;34m(\u001b[0m\u001b[0mimage\u001b[0m\u001b[0;34m,\u001b[0m \u001b[0mcv2\u001b[0m\u001b[0;34m.\u001b[0m\u001b[0mCOLOR_BGR2GRAY\u001b[0m\u001b[0;34m)\u001b[0m\u001b[0;34m\u001b[0m\u001b[0;34m\u001b[0m\u001b[0m\n",
      "\u001b[0;31mNameError\u001b[0m: name 'test_path_sorted' is not defined"
     ]
    }
   ],
   "source": [
    "count_squards = []\n",
    "# Load image, grayscale, blur, Otsu's threshold\n",
    "for file in tqdm(test_path_sorted):\n",
    "    image = cv2.imread(file)\n",
    "    gray = cv2.cvtColor(image, cv2.COLOR_BGR2GRAY)\n",
    "    blur = cv2.GaussianBlur(gray, (3,3), 0)\n",
    "    thresh = cv2.threshold(blur, 0, 255, cv2.THRESH_BINARY_INV + cv2.THRESH_OTSU)[1]\n",
    "\n",
    "    # Remove small noise with contour area filtering\n",
    "    cnts = cv2.findContours(thresh, cv2.RETR_TREE, cv2.CHAIN_APPROX_SIMPLE)\n",
    "    \n",
    "    cnts = imutils.grab_contours(cnts)\n",
    "    \n",
    "    \n",
    "    for c in cnts:\n",
    "        area = cv2.contourArea(c)\n",
    "        if area < 150:\n",
    "            cv2.drawContours(thresh, [c], -1, 0, -1)\n",
    "\n",
    "    # Find corners and draw onto image\n",
    "    corners = cv2.goodFeaturesToTrack(thresh,150,0.5,5)\n",
    "    i = 155\n",
    "    length_list = []\n",
    "    dist_list = []\n",
    "    try:\n",
    "        for corner in corners:\n",
    "            x,y = corner.ravel()\n",
    "    #         for col in get_colors():\n",
    "            cv2.circle(image,(int(x),int(y)),3,(36,255,255),-1)\n",
    "            dist = math.sqrt( ((int(x)-int(y))**2)+((int(x)-int(y))**2) )\n",
    "            font = cv2.FONT_HERSHEY_SIMPLEX\n",
    "            fontScale = 0.5\n",
    "            fontColor = (255,0,0)\n",
    "            lineType = 1\n",
    "    #         cv2.putText(image,str(dist),(i,i),font, fontScale, fontColor, lineType)\n",
    "            length_list.append(dist)\n",
    "            i -= 10\n",
    "    except:\n",
    "        length_list.append(0)\n",
    "            \n",
    "\n",
    "    # The number of rectangles is corners / 4\n",
    "#     print('Squares: {}'.format(len(corners)/4))\n",
    "\n",
    "#     cv2.imshow('image', image)\n",
    "    \n",
    "#     cv2.waitKey()\n",
    "    count_squards.append(count_diag(length_list))"
   ]
  },
  {
   "cell_type": "code",
   "execution_count": 47,
   "id": "1d16189b",
   "metadata": {},
   "outputs": [],
   "source": [
    "len(count_squards)\n",
    "df_ans = pd.read_csv('../input/sample_submission_squard.csv')\n",
    "df_ans['label'] = count_squards\n",
    "df_ans.to_csv('../input/sample_submission_squard.csv', index=False)"
   ]
  },
  {
   "cell_type": "markdown",
   "id": "517b2292",
   "metadata": {},
   "source": [
    "### 2 approach"
   ]
  },
  {
   "cell_type": "code",
   "execution_count": 68,
   "id": "281273c2",
   "metadata": {},
   "outputs": [],
   "source": [
    "import numpy as np"
   ]
  },
  {
   "cell_type": "code",
   "execution_count": 166,
   "id": "c00778f0",
   "metadata": {},
   "outputs": [],
   "source": [
    "image=cv2.imread('../input/train_data/14.png')\n",
    "cv2.imshow('input image',image)\n",
    "# cv2.waitKey()"
   ]
  },
  {
   "cell_type": "code",
   "execution_count": 167,
   "id": "df4b30f6",
   "metadata": {},
   "outputs": [],
   "source": [
    "gray=cv2.cvtColor(image,cv2.COLOR_BGR2GRAY)\n",
    "edged=cv2.Canny(gray,30,200)\n",
    "cv2.imshow('canny edges',edged)\n",
    "# cv2.waitKey()"
   ]
  },
  {
   "cell_type": "code",
   "execution_count": 168,
   "id": "9f82148d",
   "metadata": {},
   "outputs": [],
   "source": [
    "#use a copy of your image, e.g. - edged.copy(), since finding contours alter the image\n",
    "#we have to add _, before the contours as an empty argument due to upgrade of the OpenCV version\n",
    "contours, hierarchy=cv2.findContours(edged,cv2.RETR_EXTERNAL,cv2.CHAIN_APPROX_NONE)\n",
    "cv2.imshow('canny edges after contouring', edged)\n",
    "# cv2.waitKey()\n"
   ]
  },
  {
   "cell_type": "code",
   "execution_count": 169,
   "id": "a00295bf",
   "metadata": {},
   "outputs": [
    {
     "name": "stdout",
     "output_type": "stream",
     "text": [
      "Numbers of contours found=32\n"
     ]
    }
   ],
   "source": [
    "# print(contours)\n",
    "print('Numbers of contours found=' + str(len(contours)))"
   ]
  },
  {
   "cell_type": "code",
   "execution_count": 220,
   "id": "e3b46ac3",
   "metadata": {},
   "outputs": [],
   "source": [
    "#use -1 as the 3rd parameter to draw all the contours\n",
    "cv2.drawContours(image,contours,-1,(0,255,0),3)\n",
    "cv2.imshow('contours',image)\n",
    "cv2.waitKey()\n",
    "cv2.destroyAllWindows()"
   ]
  },
  {
   "cell_type": "code",
   "execution_count": 221,
   "id": "167c9c1a",
   "metadata": {},
   "outputs": [],
   "source": [
    "orig_image=image.copy()\n",
    "cv2.imshow('original image',orig_image)\n",
    "# cv2.waitKey()"
   ]
  },
  {
   "cell_type": "code",
   "execution_count": 222,
   "id": "051e5bee",
   "metadata": {},
   "outputs": [],
   "source": [
    "gray=cv2.cvtColor(image,cv2.COLOR_BGR2GRAY)\n",
    "ret, thresh=cv2.threshold(gray,127,255,cv2.THRESH_BINARY_INV)\n",
    "contours, hierarchy=cv2.findContours(thresh.copy(),cv2.RETR_LIST,cv2.CHAIN_APPROX_NONE)"
   ]
  },
  {
   "cell_type": "code",
   "execution_count": 223,
   "id": "904cb18d",
   "metadata": {},
   "outputs": [],
   "source": [
    "for c in contours:\n",
    "    x,y,w,h=cv2.boundingRect(c)\n",
    "    cv2.rectangle(orig_image,(x,y),(x+w,y+h),(0,0,255),2)\n",
    "    cv2.imshow('Bounding rect',orig_image)\n",
    "# cv2.waitKey()"
   ]
  },
  {
   "cell_type": "code",
   "execution_count": 224,
   "id": "192f3a94",
   "metadata": {},
   "outputs": [],
   "source": [
    "#calculate accuracy as a percent of contour perimeter\n",
    "accuracy=0.03*cv2.arcLength(c,True)\n",
    "approx=cv2.approxPolyDP(c,accuracy,True)\n",
    "cv2.drawContours(image,[approx],0,(0,255,0),2)\n",
    "cv2.imshow('Approx polyDP', image)\n",
    "cv2.waitKey()\n",
    "cv2.destroyAllWindows()"
   ]
  },
  {
   "cell_type": "code",
   "execution_count": 225,
   "id": "ea0e69e2",
   "metadata": {},
   "outputs": [],
   "source": [
    "n=len(contours)-1\n",
    "contours=sorted(contours,key=cv2.contourArea,reverse=False)[:n]"
   ]
  },
  {
   "cell_type": "code",
   "execution_count": 226,
   "id": "1e3764fa",
   "metadata": {},
   "outputs": [],
   "source": [
    "hull=cv2.convexHull(c)\n",
    "cv2.drawContours(image,[hull],0,(0,255,0),2)\n",
    "cv2.imshow('convex hull',image)\n",
    "cv2.waitKey()\n",
    "cv2.destroyAllWindows()"
   ]
  },
  {
   "cell_type": "code",
   "execution_count": 227,
   "id": "1172f787",
   "metadata": {},
   "outputs": [],
   "source": [
    "target=cv2.imread('../input/train_data/0.png')\n",
    "template=image\n",
    "gray=cv2.cvtColor(target,cv2.COLOR_BGR2GRAY)\n",
    "ret,thresh1=cv2.threshold(template,127,255,0)\n",
    "ret,thresh2=cv2.threshold(gray,127,255,0)"
   ]
  },
  {
   "cell_type": "code",
   "execution_count": 230,
   "id": "1bcaf004",
   "metadata": {},
   "outputs": [
    {
     "name": "stdout",
     "output_type": "stream",
     "text": [
      "match\n",
      "0.0032385010771178724\n",
      "[[[  0   0]]\n",
      "\n",
      " [[  0 319]]\n",
      "\n",
      " [[319 319]]\n",
      "\n",
      " [[319   0]]]\n"
     ]
    }
   ],
   "source": [
    "sorted_contours=sorted(contours, key=cv2.contourArea, reverse=True)\n",
    "#we extract the second largest contour which will be our template contour\n",
    "tempelate_contour=contours[2]\n",
    "#extract the contours from the second target image\n",
    "contours,hierarchy=cv2.findContours(thresh2,cv2.RETR_CCOMP,cv2.CHAIN_APPROX_SIMPLE)\n",
    "\n",
    "for c in contours:\n",
    "    #iterate through each contour in the target image and use cv2.matchShape to compare the contour shape\n",
    "    match=cv2.matchShapes(tempelate_contour,c,1,0.0)\n",
    "    print(\"match\")\n",
    "    #if match value is less than 0.15\n",
    "    print(match)\n",
    "    if match<0.15:\n",
    "        closest_contour=c\n",
    "    else:\n",
    "        closest_contour=[]\n",
    "print(closest_contour)\n",
    "cv2.drawContours(target,[closest_contour],-1,(0,255,0),3)\n",
    "cv2.imshow('output',target)\n",
    "cv2.waitKey()\n",
    "cv2.destroyAllWindows()\n"
   ]
  },
  {
   "cell_type": "code",
   "execution_count": 241,
   "id": "69f981be",
   "metadata": {},
   "outputs": [],
   "source": [
    "image=cv2.imread('../input/train_data/1.png')\n",
    "gray=cv2.cvtColor(image,cv2.COLOR_BGR2GRAY)\n",
    "cv2.imshow('identifying shapes',image)\n",
    "cv2.waitKey(0)\n",
    "\n",
    "ret, thresh=cv2.threshold(gray,127,255,1)"
   ]
  },
  {
   "cell_type": "code",
   "execution_count": 242,
   "id": "47cd376e",
   "metadata": {},
   "outputs": [],
   "source": [
    "contours, hierarchy=cv2.findContours(thresh.copy(),cv2.RETR_LIST,cv2.CHAIN_APPROX_NONE)"
   ]
  },
  {
   "cell_type": "code",
   "execution_count": 243,
   "id": "ab330d83",
   "metadata": {},
   "outputs": [],
   "source": [
    "for cnt in contours:\n",
    "    approx = cv2.approxPolyDP(cnt,0.01*cv2.arcLength(cnt,True),True)\n",
    "    if len(approx)==3:\n",
    "        shape_name=\"Triangle\"\n",
    "        cv2.drawContours(image,[cnt],0,(0,255,0),-1)\n",
    "        M=cv2.moments(cnt)\n",
    "        cx=int(M['m10']/M['m00'])\n",
    "        cy=int(M['m01']/M['m00'])\n",
    "        cv2.putText(image,shape_name,(cx-50,cy),cv2.FONT_HERSHEY_SIMPLEX,1,(0,0,0),1)\n",
    "    elif len(approx)==4:\n",
    "        x,y,w,h=cv2.boundingRect(cnt)\n",
    "        M=cv2.moments(cnt)\n",
    "        cx=int(M['m10']/M['m00'])\n",
    "        cy=int(M['m01']/M['m00'])\n",
    "    #cv2.boundingRect return the left width and height in pixels, starting from the top\n",
    "            #left corner, for square it would be roughly same     \n",
    "        if abs(w-h) <= 3:\n",
    "            shape_name=\"square\"\n",
    "            #find contour center to place text at center\n",
    "            cv2.drawContours(image,[cnt],0,(0,125,255),-1)\n",
    "            cv2.putText(image,shape_name,(cx-50,cy),cv2.FONT_HERSHEY_SIMPLEX,1,(0,0,0),1)         \n",
    "        else:\n",
    "            shape_name=\"Reactangle\"\n",
    "            #find contour center to place text at center\n",
    "            cv2.drawContours(image,[cnt],0,(0,0,255),-1)\n",
    "            M=cv2.moments(cnt)\n",
    "            cx=int(M['m10']/M['m00'])\n",
    "            cy=int(M['m01']/M['m00'])\n",
    "            cv2.putText(image,shape_name,(cx-50,cy),cv2.FONT_HERSHEY_SIMPLEX,1,(0,0,0),1)\n",
    "    elif len(approx)==10:\n",
    "        shape_name='star'\n",
    "        cv2.drawContours(image,[cnt],0,(255,255,0),-1)\n",
    "        M=cv2.moments(cnt)\n",
    "        cx=int(M['m10']/M['m00'])\n",
    "        cy=int(M['m01']/M['m00'])\n",
    "        cv2.putText(image,shape_name,(cx-50,cy),cv2.FONT_HERSHEY_SIMPLEX,1,(0,0,0),1)\n",
    "    elif len(approx)>=15:\n",
    "        shape_name='circle'\n",
    "        cv2.drawContours(image,[cnt],0,(0,255,255),-1)\n",
    "        M=cv2.moments(cnt)\n",
    "        cx=int(M['m10']/M['m00'])\n",
    "        cy=int(M['m01']/M['m00'])\n",
    "        cv2.putText(image,shape_name,(cx-50,cy),cv2.FONT_HERSHEY_SIMPLEX,1,(0,0,0),1)\n",
    "cv2.imshow('identifying shapes', image)\n",
    "cv2.waitKey()\n",
    "cv2.destroyAllWindows()"
   ]
  },
  {
   "cell_type": "code",
   "execution_count": 239,
   "id": "f602e2eb",
   "metadata": {},
   "outputs": [],
   "source": [
    "contours = contours_"
   ]
  },
  {
   "cell_type": "code",
   "execution_count": null,
   "id": "cbf38d87",
   "metadata": {},
   "outputs": [],
   "source": []
  },
  {
   "cell_type": "code",
   "execution_count": 278,
   "id": "86c5a000",
   "metadata": {},
   "outputs": [
    {
     "name": "stdout",
     "output_type": "stream",
     "text": [
      "1.0\n",
      "1.0\n",
      "1.0135135135135136\n",
      "1.0\n",
      "1.0\n",
      "1.0\n",
      "1.0\n",
      "1.0\n",
      "1.0\n",
      "0.9861111111111112\n",
      "1.0\n",
      "1.3170731707317074\n",
      "1.2972972972972974\n",
      "1.0\n",
      "1.0\n",
      "0.37623762376237624\n"
     ]
    },
    {
     "data": {
      "text/plain": [
       "13"
      ]
     },
     "execution_count": 278,
     "metadata": {},
     "output_type": "execute_result"
    }
   ],
   "source": [
    "import numpy as np\n",
    "import cv2\n",
    "\n",
    "img = cv2.imread('../input/train_data/3.png')\n",
    "imgGry = cv2.cvtColor(img, cv2.COLOR_BGR2GRAY)\n",
    "\n",
    "ret , thrash = cv2.threshold(imgGry, 240 , 255, cv2.CHAIN_APPROX_NONE)\n",
    "contours , hierarchy = cv2.findContours(thrash, cv2.RETR_TREE, cv2.CHAIN_APPROX_NONE)\n",
    "\n",
    "\n",
    "count_square = 0\n",
    "for contour in contours:\n",
    "    approx = cv2.approxPolyDP(contour, 0.01* cv2.arcLength(contour, True), True)\n",
    "    cv2.drawContours(img, [approx], 0, (0, 0, 0), 5)\n",
    "    x = approx.ravel()[0]\n",
    "    y = approx.ravel()[1] - 5\n",
    "    if len(approx) == 3:\n",
    "        cv2.putText( img, \"Triangle\", (x, y), cv2.FONT_HERSHEY_COMPLEX, 0.5, (0, 0, 0) )\n",
    "    elif len(approx) == 4 :\n",
    "        x, y , w, h = cv2.boundingRect(approx)\n",
    "        aspectRatio = float(w)/h\n",
    "        print(aspectRatio)\n",
    "        if aspectRatio >= 0.95 and aspectRatio < 1.05:\n",
    "            cv2.putText(img, \"square\", (x, y), cv2.FONT_HERSHEY_COMPLEX, 0.5, (0, 0, 0))\n",
    "            count_square += 1\n",
    "\n",
    "        else:\n",
    "            cv2.putText(img, \"rectangle\", (x, y), cv2.FONT_HERSHEY_COMPLEX, 0.5, (0, 0, 0))\n",
    "\n",
    "    elif len(approx) == 5 :\n",
    "        cv2.putText(img, \"pentagon\", (x, y), cv2.FONT_HERSHEY_COMPLEX, 0.5, (0, 0, 0))\n",
    "    elif len(approx) == 10 :\n",
    "        cv2.putText(img, \"star\", (x, y), cv2.FONT_HERSHEY_COMPLEX, 0.5, (0, 0, 0))\n",
    "    else:\n",
    "        cv2.putText(img, \"circle\", (x, y), cv2.FONT_HERSHEY_COMPLEX, 0.5, (0, 0, 0))\n",
    "\n",
    "cv2.imshow('shapes', img)\n",
    "cv2.waitKey(0)\n",
    "cv2.destroyAllWindows()\n",
    "count_square"
   ]
  },
  {
   "cell_type": "markdown",
   "id": "a369d807",
   "metadata": {},
   "source": [
    "### 3 approach "
   ]
  },
  {
   "cell_type": "code",
   "execution_count": 393,
   "id": "85a598eb",
   "metadata": {},
   "outputs": [],
   "source": [
    "import PIL\n",
    "from PIL import Image\n",
    "from io import BytesIO\n",
    "from PIL import ImageFilter\n",
    "from PIL import ImageEnhance\n",
    "from IPython.display import display\n",
    "import numpy as np\n"
   ]
  },
  {
   "cell_type": "code",
   "execution_count": 433,
   "id": "10d67172",
   "metadata": {},
   "outputs": [
    {
     "data": {
      "text/plain": [
       "'L'"
      ]
     },
     "execution_count": 433,
     "metadata": {},
     "output_type": "execute_result"
    }
   ],
   "source": [
    "img = Image.open(example)\n",
    " \n",
    "# get the mode of the image\n",
    "img.mode \n",
    "# it returns 'rgb'\n",
    " \n",
    "# create a grayscale image\n",
    "grayimg = img.convert('L')\n",
    "grayimg.mode"
   ]
  },
  {
   "cell_type": "code",
   "execution_count": 434,
   "id": "31f739f7",
   "metadata": {},
   "outputs": [
    {
     "data": {
      "text/plain": [
       "255"
      ]
     },
     "execution_count": 434,
     "metadata": {},
     "output_type": "execute_result"
    }
   ],
   "source": [
    "# get the pixel of the top left corner of the RGB image\n",
    "img.getpixel((0,0))\n",
    "# we get (44, 110, 160) since it is an RGB we expected a tuple of 3-D taking values from 0-255\n",
    " \n",
    "# get the pixel of the top left corner of the grayscale image\n",
    "grayimg.getpixel((0,0))\n",
    "# it returns 95 , as we expected we got only one element within the range of 0-255\n"
   ]
  },
  {
   "cell_type": "code",
   "execution_count": 437,
   "id": "d297624b",
   "metadata": {},
   "outputs": [
    {
     "data": {
      "image/png": "[encoded data removed]",
      "text/plain": [
       "<PIL.Image.Image image mode=L size=320x320>"
      ]
     },
     "execution_count": 437,
     "metadata": {},
     "output_type": "execute_result"
    }
   ],
   "source": [
    "def binarize(image_to_transform, threshold):\n",
    "    # now, lets convert that image to a single greyscale image using convert()\n",
    "    output_image=image_to_transform.convert(\"L\")\n",
    "    for x in range(output_image.width):\n",
    "        for y in range(output_image.height):\n",
    "            # for the given pixel at w,h, lets check its value against the threshold\n",
    "            if output_image.getpixel((x,y))< threshold: #note that the first parameter is actually a tuple object\n",
    "                # lets set this to zero\n",
    "#                 print('1', (x,y))\n",
    "                output_image.putpixel( (x,y), 0 )\n",
    "            else:\n",
    "#                 print('2', (x,y))\n",
    "#                 otherwise lets set this to 255\n",
    "                output_image.putpixel( (x,y), 255 )\n",
    "    #now we just return the new image\n",
    "    return output_image\n",
    " \n",
    "binarize(img, 200)"
   ]
  },
  {
   "cell_type": "markdown",
   "id": "d6ad9e60",
   "metadata": {},
   "source": [
    "### 4 approach"
   ]
  },
  {
   "cell_type": "code",
   "execution_count": 3,
   "id": "b3373879",
   "metadata": {},
   "outputs": [],
   "source": [
    "import cv2\n"
   ]
  },
  {
   "cell_type": "code",
   "execution_count": 44,
   "id": "fcfd27c2",
   "metadata": {},
   "outputs": [
    {
     "name": "stderr",
     "output_type": "stream",
     "text": [
      "100%|██████████████████████████████████████████████████████████████████████████████████████| 6000/6000 [00:09<00:00, 664.85it/s]\n"
     ]
    }
   ],
   "source": [
    "count_square_list = []\n",
    "for file in tqdm(test_path_sorted):\n",
    "    img = cv2.imread(file, 1)\n",
    "    gray = cv2.cvtColor(img, cv2.COLOR_BGR2GRAY)\n",
    "    gauss = cv2.adaptiveThreshold(gray,255,cv2.ADAPTIVE_THRESH_GAUSSIAN_C, cv2.THRESH_BINARY, 3, 0)\n",
    "    ret,thresh = cv2.threshold(gauss,0,255,cv2.THRESH_BINARY|cv2.THRESH_OTSU)\n",
    "    rev=255-thresh\n",
    "\n",
    "    contours, hierarchy = cv2.findContours(thresh, cv2.RETR_LIST ,cv2.CHAIN_APPROX_SIMPLE)\n",
    "    # print(contours)\n",
    "    min_rect_len = 15\n",
    "    max_rect_len = 20\n",
    "\n",
    "    count_square = 0\n",
    "    for contour in contours:\n",
    "        (x, y, w, h) = cv2.boundingRect(contour)\n",
    "        if h>min_rect_len and w>min_rect_len:\n",
    "            cv2.rectangle(img, (x, y), (x + w, y + h), (255, 0, 0), 1)\n",
    "            count_square += 1\n",
    "    count_square_list.append(int(count_square / 4))\n",
    "    # cv2.imwrite(example, img)\n",
    "    # cv2.imshow('shapes', img)\n",
    "    # cv2.waitKey(0)\n",
    "    # cv2.destroyAllWindows()"
   ]
  },
  {
   "cell_type": "code",
   "execution_count": 48,
   "id": "5cfde33c",
   "metadata": {},
   "outputs": [],
   "source": [
    "df_ans['label'] = count_square_list\n",
    "df_ans.to_csv('../input/sample_submission_squard_2.csv', index=False)"
   ]
  },
  {
   "cell_type": "code",
   "execution_count": null,
   "id": "c586077d",
   "metadata": {},
   "outputs": [],
   "source": []
  }
 ],
 "metadata": {
  "kernelspec": {
   "display_name": "Python 3 (ipykernel)",
   "language": "python",
   "name": "python3"
  },
  "language_info": {
   "codemirror_mode": {
    "name": "ipython",
    "version": 3
   },
   "file_extension": ".py",
   "mimetype": "text/x-python",
   "name": "python",
   "nbconvert_exporter": "python",
   "pygments_lexer": "ipython3",
   "version": "3.7.2"
  }
 },
 "nbformat": 4,
 "nbformat_minor": 5
}
